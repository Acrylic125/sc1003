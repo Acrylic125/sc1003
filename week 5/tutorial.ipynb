{
 "cells": [
  {
   "cell_type": "markdown",
   "metadata": {},
   "source": [
    "# Q1\n",
    "## Problem\n",
    "You have a dataset containing the recorded daily temperatures for one month. Your task is to determine the number of days within that month where the temperature exceeded 25 degrees Celsius. Briefly describe the steps to Solve the Problem.\n",
    "\n",
    "## Solution\n",
    "```\n",
    "Initialise row to row 0\n",
    "Initialise days_with_over_t25 to 0\n",
    "While True then\n",
    "    If temp of row >= 25 Then\n",
    "        Add 1 to days_with_over_t25 \n",
    "    Set row to the next row\n",
    "    If no next row Then\n",
    "        Break\n",
    "Print days_with_over_t25"
   ]
  },
  {
   "cell_type": "markdown",
   "metadata": {},
   "source": [
    "# Q2\n",
    "## Problem\n",
    "What is the output of the following Python program?\n",
    "```python\n",
    "value = 6\n",
    "if value % 2 == 0:\n",
    "   print(\"first\", value)\n",
    "elif value % 3 == 0:\n",
    "   print(\"second\", value)\n",
    "   \n",
    "while value <= 9:\n",
    "   value = value + 1\n",
    "   if value == 8:\n",
    "      continue\n",
    "   else:\n",
    "      pass\n",
    "   print (\"third\", value)\n",
    "else:\n",
    "   print (\"fourth\", value)\n",
    "\n",
    "print(\"fifth\", value)\n",
    "```\n",
    "\n",
    "## Solution\n",
    "What is the output of the following Python program?\n",
    "```python\n",
    "value = 6\n",
    "if value % 2 == 0:\n",
    "   print(\"first\", value) # first 6\n",
    "elif value % 3 == 0:\n",
    "   print(\"second\", value) # second 6\n",
    "   \n",
    "while value <= 9: # 6, 7, 8, 9\n",
    "   value = value + 1 # 7, 8, 9, 10\n",
    "   if value == 8:\n",
    "      continue \n",
    "   else:\n",
    "      pass\n",
    "   print (\"third\", value) # 7, 9, 10\n",
    "else:\n",
    "   print (\"fourth\", value) # Fourth 10\n",
    "\n",
    "print(\"fifth\", value) # fifth 10\n",
    "```"
   ]
  },
  {
   "cell_type": "code",
   "execution_count": 4,
   "metadata": {},
   "outputs": [
    {
     "name": "stdout",
     "output_type": "stream",
     "text": [
      "first 6\n",
      "third 7\n",
      "third 9\n",
      "third 10\n",
      "fourth 10\n",
      "fifth 10\n"
     ]
    }
   ],
   "source": [
    "value = 6\n",
    "if value % 2 == 0:\n",
    "   print(\"first\", value) # first 6\n",
    "elif value % 3 == 0:\n",
    "   print(\"second\", value) # second 6\n",
    "   \n",
    "while value <= 9: # 6, 7, 8, 9\n",
    "   value = value + 1 # 7, 8, 9, 10\n",
    "   if value == 8:\n",
    "      continue \n",
    "   else:\n",
    "      pass\n",
    "   print (\"third\", value) # 7, 8, 9, 10\n",
    "else:\n",
    "   print (\"fourth\", value) # Fourth 10\n",
    "\n",
    "print(\"fifth\", value) # fifth 10"
   ]
  },
  {
   "cell_type": "markdown",
   "metadata": {},
   "source": [
    "# Q3\n",
    "The following program calculates the number of input strings with letter ‘a’, and end the program when the input string is “####”. Here is an expected sample run:\n",
    "## Problem\n",
    "Sample :\n",
    "\n",
    "```\n",
    "enter a string (enter #### to stop): apple\n",
    "enter a string (enter #### to stop): banana\n",
    "enter a string (enter #### to stop): strawberry\n",
    "enter a string (enter #### to stop): book\n",
    "enter a string (enter #### to stop): ####\n",
    "3 strings with letter 'a'\n",
    "```\n",
    "\n",
    "```python\n",
    "while True:\n",
    "    str = input(\"enter a string: \")\n",
    "    for letter in str:\n",
    "      if letter == 'a':\n",
    "          break\n",
    "      count +=1\n",
    "    print(count , \"strings with letter 'a'\")\n",
    "```\n",
    "\n",
    "There are some errors in the above program. Please indicate where the errors are and how to correct them.\n",
    "\n",
    "## Solution\n",
    "```python\n",
    "count = 0 # count needs to be initialised\n",
    "while True:\n",
    "    str = input(\"enter a string: \") # Not an error but str is an inbuilt function.\n",
    "    # did not check for \"####\" \n",
    "    if str == \"####\":\n",
    "      break\n",
    "    for letter in str:\n",
    "      if letter == 'a': # == to is\n",
    "        count += 1 # Count should only be counted if this is True.\n",
    "        break\n",
    "print(count , \"strings with letter 'a'\")\n",
    "```"
   ]
  },
  {
   "cell_type": "code",
   "execution_count": 6,
   "metadata": {},
   "outputs": [
    {
     "name": "stdout",
     "output_type": "stream",
     "text": [
      "1 strings with letter 'a'\n"
     ]
    }
   ],
   "source": [
    "count = 0 # count needs to be initialised\n",
    "while True:\n",
    "    str = input(\"enter a string: \") # Not an error but str is an inbuilt function.\n",
    "    # did not check for \"####\" \n",
    "    if str == \"####\":\n",
    "      break\n",
    "    for letter in str:\n",
    "      if letter == 'a': # == to is\n",
    "        count += 1 # Count should only be counted if this is True.\n",
    "        break\n",
    "print(count , \"strings with letter 'a'\")"
   ]
  },
  {
   "cell_type": "markdown",
   "metadata": {},
   "source": [
    "# Q4\n",
    "## Problem\n",
    "Write a simple Python program to implement the Pseudocode of FizzBuzz problem in discussion #1. \n"
   ]
  },
  {
   "cell_type": "code",
   "execution_count": 7,
   "metadata": {},
   "outputs": [
    {
     "name": "stdout",
     "output_type": "stream",
     "text": [
      "1\n",
      "2\n",
      "Fizz\n",
      "4\n",
      "Buzz\n",
      "Fizz\n",
      "7\n",
      "8\n",
      "Fizz\n",
      "Buzz\n",
      "11\n",
      "Fizz\n",
      "13\n",
      "14\n",
      "FizzBuzz\n",
      "16\n",
      "17\n",
      "Fizz\n",
      "19\n",
      "Buzz\n",
      "Fizz\n",
      "22\n",
      "23\n",
      "Fizz\n",
      "Buzz\n",
      "26\n",
      "Fizz\n",
      "28\n",
      "29\n",
      "FizzBuzz\n",
      "31\n",
      "32\n",
      "Fizz\n",
      "34\n",
      "Buzz\n",
      "Fizz\n",
      "37\n",
      "38\n",
      "Fizz\n",
      "Buzz\n",
      "41\n",
      "Fizz\n"
     ]
    }
   ],
   "source": [
    "number = int(input(\"Enter number of FizzBuzz: \"))\n",
    "\n",
    "for i in range(1, number + 1):\n",
    "    if i % 15 == 0:\n",
    "        print(\"FizzBuzz\")\n",
    "    elif i % 3 == 0:\n",
    "        print(\"Fizz\")\n",
    "    elif i % 5 == 0:\n",
    "        print(\"Buzz\")\n",
    "    else:\n",
    "        print(i)\n"
   ]
  },
  {
   "cell_type": "markdown",
   "metadata": {},
   "source": [
    "# Q5\n",
    "## Problem\n",
    "Write a Python program that reads an integer from the user, which is the width of the pattern below, and then prints out the pattern. Suggestion: use nested for loops.  Hint: print(\"*\",end=\"\").\n",
    "```\n",
    "Pattern width: 5\n",
    "*\n",
    "**\n",
    "***\n",
    "****\n",
    "*****\n",
    "****\n",
    "***\n",
    "**\n",
    "*\n",
    "```\n",
    "\n",
    "With 1 and 2 for loops.\n",
    "\n",
    "## Solution"
   ]
  },
  {
   "cell_type": "code",
   "execution_count": 13,
   "metadata": {},
   "outputs": [
    {
     "name": "stdout",
     "output_type": "stream",
     "text": [
      "*\n",
      "**\n",
      "***\n",
      "****\n",
      "***\n",
      "**\n",
      "*\n"
     ]
    }
   ],
   "source": [
    "# With 2 for loops\n",
    "# width = int(input(\"Pattern width: \"))\n",
    "# for i in range(1, width + 1):\n",
    "#     print(\"*\" * i)\n",
    "# for i in range(width - 1, 0, -1):\n",
    "#     print(\"*\" * i)\n",
    "\n",
    "# With 1 for loop\n",
    "width = int(input(\"Pattern width: \"))\n",
    "construct = []\n",
    "for i in range(1, width * 2):\n",
    "    count = i\n",
    "    if count > width:\n",
    "        count = width * 2 - count        \n",
    "    print(\"*\" * count)\n"
   ]
  }
 ],
 "metadata": {
  "kernelspec": {
   "display_name": "sc1003",
   "language": "python",
   "name": "python3"
  },
  "language_info": {
   "codemirror_mode": {
    "name": "ipython",
    "version": 3
   },
   "file_extension": ".py",
   "mimetype": "text/x-python",
   "name": "python",
   "nbconvert_exporter": "python",
   "pygments_lexer": "ipython3",
   "version": "3.10.7"
  }
 },
 "nbformat": 4,
 "nbformat_minor": 2
}
