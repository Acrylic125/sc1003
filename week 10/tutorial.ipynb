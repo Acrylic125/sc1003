{
 "cells": [
  {
   "cell_type": "markdown",
   "metadata": {},
   "source": [
    "# Q1\n",
    "## Problem\n",
    "How could we extend the above representation to binary trees (BT), in which a parent node\n",
    "could have one or two child nodes?\n",
    "For example, the following tree is a binary tree (BT). Notice that the node labelled 1 has no\n",
    "right child. \n",
    "\n",
    "## Solution"
   ]
  },
  {
   "cell_type": "code",
   "execution_count": 8,
   "metadata": {},
   "outputs": [],
   "source": [
    "bt = [\n",
    "    [[7], 1, [9]],\n",
    "    3,\n",
    "    [[8], 2, [4]],\n",
    "]\n",
    "\n",
    "# Representing with one or 2 nodes e.g. [9] is not a node.\n",
    "bt = [\n",
    "    [[7], 1, []],\n",
    "    3,\n",
    "    [[8], 2, [4]],\n",
    "]"
   ]
  },
  {
   "cell_type": "markdown",
   "metadata": {},
   "source": [
    "# Q2\n",
    "## Problem\n",
    "How do we extend the `numOfNodes()` function to allow for BTs? \n",
    "\n",
    "## Solution"
   ]
  },
  {
   "cell_type": "code",
   "execution_count": 5,
   "metadata": {},
   "outputs": [
    {
     "name": "stdout",
     "output_type": "stream",
     "text": [
      "[[7], 1, []] [[8], 2, [[4]]]\n",
      "[7] []\n",
      "[8] [[4]]\n",
      "6\n"
     ]
    }
   ],
   "source": [
    "def numOfNodes(bt):\n",
    "    if len(bt) == 0:\n",
    "        return 0\n",
    "    if len(bt) == 1:\n",
    "        return 1\n",
    "    assert len(bt) == 3\n",
    "    \n",
    "    left = bt[0]\n",
    "    right = bt[2]\n",
    "    print(left, right)\n",
    "    return numOfNodes(left) + 1 + numOfNodes(right)\n",
    "\n",
    "print(numOfNodes(bt))"
   ]
  },
  {
   "cell_type": "markdown",
   "metadata": {},
   "source": [
    "# Q3\n",
    "## Problem\n",
    "How do we extend the `sumNodes()` to allow for BTs?\n",
    "\n",
    "## Solution"
   ]
  },
  {
   "cell_type": "code",
   "execution_count": 9,
   "metadata": {},
   "outputs": [
    {
     "name": "stdout",
     "output_type": "stream",
     "text": [
      "[[7], 1, []] 3 [[8], 2, [4]]\n",
      "[7] 1 []\n",
      "[8] 2 [4]\n",
      "25\n"
     ]
    }
   ],
   "source": [
    "def sumNodes(bt):\n",
    "    if len(bt) == 0:\n",
    "        return 0\n",
    "    if len(bt) == 1:\n",
    "        return bt[0]\n",
    "    left = bt[0]\n",
    "    middle = bt[1]\n",
    "    right = bt[2]\n",
    "    print(left, middle, right)\n",
    "    return sumNodes(left) + middle + sumNodes(right)\n",
    "\n",
    "print(sumNodes(bt))"
   ]
  },
  {
   "cell_type": "markdown",
   "metadata": {},
   "source": [
    "# Q4\n",
    "## Problem\n",
    "How do we extend the `maxNodes()` function to allow for BTs? \n",
    "\n",
    "## Solution"
   ]
  },
  {
   "cell_type": "code",
   "execution_count": 10,
   "metadata": {},
   "outputs": [
    {
     "name": "stdout",
     "output_type": "stream",
     "text": [
      "[[7], 1, []] 3 [[8], 2, [4]]\n",
      "[7] 1 []\n",
      "[8] 2 [4]\n",
      "8\n"
     ]
    }
   ],
   "source": [
    "\n",
    "def maxNodes(bt):\n",
    "    if len(bt) == 0:\n",
    "        raise ValueError(\"Empty tree\")\n",
    "    if len(bt) == 1:\n",
    "        return bt[0]\n",
    "    left = bt[0]\n",
    "    middle = bt[1]\n",
    "    right = bt[2]\n",
    "    print(left, middle, right)\n",
    "    if len(left) == 0 and len(right) == 0:\n",
    "        return middle\n",
    "    if len(left) == 0:\n",
    "        return max(middle, maxNodes(right))\n",
    "    if len(right) == 0:\n",
    "        return max(middle, maxNodes(left))\n",
    "    return max(middle, maxNodes(left), maxNodes(right))\n",
    "\n",
    "print(maxNodes(bt))"
   ]
  },
  {
   "cell_type": "markdown",
   "metadata": {},
   "source": [
    "# Q5\n",
    "## Problem\n",
    "How do we extend the `minNodes()` function to allow for BTs? \n",
    "\n",
    "## Solution"
   ]
  },
  {
   "cell_type": "code",
   "execution_count": 11,
   "metadata": {},
   "outputs": [
    {
     "name": "stdout",
     "output_type": "stream",
     "text": [
      "[[7], 1, []] 3 [[8], 2, [4]]\n",
      "[7] 1 []\n",
      "[8] 2 [4]\n",
      "1\n"
     ]
    }
   ],
   "source": [
    "def minNodes(bt):\n",
    "    if len(bt) == 0:\n",
    "        raise ValueError(\"Empty tree\")\n",
    "    if len(bt) == 1:\n",
    "        return bt[0]\n",
    "    left = bt[0]\n",
    "    middle = bt[1]\n",
    "    right = bt[2]\n",
    "    print(left, middle, right)\n",
    "    if len(left) == 0 and len(right) == 0:\n",
    "        return middle\n",
    "    if len(left) == 0:\n",
    "        return min(middle, minNodes(right))\n",
    "    if len(right) == 0:\n",
    "        return min(middle, minNodes(left))\n",
    "    return min(middle, minNodes(left), minNodes(right))\n",
    "\n",
    "print(minNodes(bt))"
   ]
  },
  {
   "cell_type": "markdown",
   "metadata": {},
   "source": [
    "# Q6\n",
    "## Problem\n",
    "How do we extend the `mirror()` function to allow for BTs? \n",
    "\n",
    "## Solution"
   ]
  },
  {
   "cell_type": "code",
   "execution_count": 13,
   "metadata": {},
   "outputs": [
    {
     "name": "stdout",
     "output_type": "stream",
     "text": [
      "[[[4], 2, [8]], 3, [[], 1, [7]]]\n"
     ]
    }
   ],
   "source": [
    "def mirror(bt):\n",
    "    if len(bt) == 0:\n",
    "        return bt\n",
    "    if len(bt) == 1:\n",
    "        return bt\n",
    "    left = bt[0]\n",
    "    middle = bt[1]\n",
    "    right = bt[2]\n",
    "    return [mirror(right), middle, mirror(left)]\n",
    "\n",
    "print(mirror(bt))\n"
   ]
  }
 ],
 "metadata": {
  "kernelspec": {
   "display_name": "sc1003",
   "language": "python",
   "name": "python3"
  },
  "language_info": {
   "codemirror_mode": {
    "name": "ipython",
    "version": 3
   },
   "file_extension": ".py",
   "mimetype": "text/x-python",
   "name": "python",
   "nbconvert_exporter": "python",
   "pygments_lexer": "ipython3",
   "version": "3.10.7"
  }
 },
 "nbformat": 4,
 "nbformat_minor": 2
}
