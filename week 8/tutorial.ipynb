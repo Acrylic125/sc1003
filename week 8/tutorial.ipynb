{
 "cells": [
  {
   "cell_type": "markdown",
   "metadata": {},
   "source": [
    "# Q1\n",
    "## Problem\n",
    "We are about to develop a game called 1A2B (aka. Bulls & Cows) in Python. The\n",
    "game is played as follows:\n",
    "1. In the beginning, the game will randomly pick four different digits as the target\n",
    "number (e.g., 2468) to be guessed by the player.\n",
    "2. In each round of the game, the player must guess four digits, e.g., 1234. If a userguessed digit occurs target number and its position is the same as that in the\n",
    "target number, it is considered as 1A (or 1 bull). If a user-guessed digit occurs in\n",
    "the target number, but its position is different from that in the target number, it is\n",
    "considered as 1B (or 1 cow).\n",
    "For example, if the target number is 2468 and the user guess is 1234, the result\n",
    "of this round is 2B because both digits 2 and 4 occur in the target number but their\n",
    "positions are wrong. If the user guess is 2478, the result of this round is 3A\n",
    "because both digits 2, 4, and 8 occur in the target number, and their positions are\n",
    "all correct.\n",
    "3. The player wins the game if their guess results in 4A (or 4 bulls), i.e., all the digits\n",
    "appear in the target number, and their positions are correct. \n",
    "\n",
    "## Solution"
   ]
  },
  {
   "cell_type": "code",
   "execution_count": 19,
   "metadata": {},
   "outputs": [
    {
     "name": "stdout",
     "output_type": "stream",
     "text": [
      "The answer is: 1580\n",
      "Guess: 1234\n",
      "A: 1\n",
      "B: 0\n",
      "Guess: 5678\n",
      "A: 0\n",
      "B: 2\n",
      "Guess: 1568\n",
      "A: 2\n",
      "B: 1\n",
      "Guess: 1958\n",
      "A: 1\n",
      "B: 2\n",
      "Guess: 1508\n",
      "A: 2\n",
      "B: 2\n",
      "Correct!\n"
     ]
    }
   ],
   "source": [
    "import random\n",
    "\n",
    "def get_ab_score(guess: str, answer: str) -> tuple[int, int]:\n",
    "    if len(guess) != len(answer) != 4:\n",
    "        raise ValueError(\"Guess and answer must be 4 digits long\")\n",
    "    \n",
    "    a = 0\n",
    "    b = 0\n",
    "\n",
    "    if guess == answer:\n",
    "        return 4, 0\n",
    "\n",
    "    for i in range(len(guess)):\n",
    "        guess_at_i = guess[i]\n",
    "        answer_at_i = answer[i]\n",
    "        \n",
    "        if guess_at_i == answer_at_i:\n",
    "            a += 1\n",
    "        elif answer.find(guess_at_i) != -1:\n",
    "            b += 1\n",
    "    \n",
    "    return a, b\n",
    "\n",
    "answer = random.randint(0, 9999)\n",
    "answer = str(answer).zfill(4)\n",
    "attempts = 0\n",
    "# print(f\"The answer is: {answer}\")\n",
    "while True:\n",
    "    guess = input(\"Enter your guess: \")\n",
    "\n",
    "    try:\n",
    "        attempts += 1\n",
    "        a, b = get_ab_score(guess, answer)\n",
    "        if a == 4:\n",
    "            print(f\"Correct! You guessed the answer in {attempts} attempts.\")\n",
    "            break\n",
    "        print(f\"Guess: {guess}\\nA: {a}\\nB: {b}\")\n",
    "    except ValueError as e:\n",
    "        print(\"Invalid input. Make sure the guess is 4 digits long.\")\n"
   ]
  }
 ],
 "metadata": {
  "kernelspec": {
   "display_name": "sc1003",
   "language": "python",
   "name": "python3"
  },
  "language_info": {
   "codemirror_mode": {
    "name": "ipython",
    "version": 3
   },
   "file_extension": ".py",
   "mimetype": "text/x-python",
   "name": "python",
   "nbconvert_exporter": "python",
   "pygments_lexer": "ipython3",
   "version": "3.10.7"
  }
 },
 "nbformat": 4,
 "nbformat_minor": 2
}
