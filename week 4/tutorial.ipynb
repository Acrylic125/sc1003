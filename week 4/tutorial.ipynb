{
 "cells": [
  {
   "cell_type": "code",
   "execution_count": 8,
   "metadata": {},
   "outputs": [
    {
     "name": "stdout",
     "output_type": "stream",
     "text": [
      "hello, 3.00, .2f\n",
      "Python*Python*"
     ]
    }
   ],
   "source": [
    "print(\"hello, {}, {}\".format(format(3, \".2f\"), \".2f\"))\n",
    "\n",
    "for i in [\"Hi\", \"Hello\"]:\n",
    "    print(\"Python\", end=\"*\")\n"
   ]
  },
  {
   "cell_type": "code",
   "execution_count": 30,
   "metadata": {},
   "outputs": [
    {
     "name": "stdout",
     "output_type": "stream",
     "text": [
      "[8, 7, 6, 5, 4, 3, 2, 1]\n",
      "[8, 7, 6]\n"
     ]
    }
   ],
   "source": [
    "\n",
    "print(list(range(1, 9, 1))[::-1])\n",
    "print(list(range(1, 9, 1))[:4:-1])"
   ]
  },
  {
   "cell_type": "code",
   "execution_count": 27,
   "metadata": {},
   "outputs": [
    {
     "name": "stdout",
     "output_type": "stream",
     "text": [
      "Else Example 1\n",
      "While Example 2\n",
      "While: 1\n",
      "While: 2\n",
      "While: 3\n",
      "While: 4\n",
      "Else: 4\n",
      "0 1 2 3 Else\n",
      "0 1 2 3 "
     ]
    }
   ],
   "source": [
    "while False:\n",
    "    print(\"While Example 1\") # Won't reach\n",
    "    break\n",
    "else:\n",
    "    print(\"Else Example 1\")\n",
    "\n",
    "while True:\n",
    "    print(\"While Example 2\")\n",
    "    break\n",
    "else:\n",
    "    print(\"Else Example 2\") # Won't reach\n",
    "\n",
    "a = 0\n",
    "while a <= 3:\n",
    "    a += 1\n",
    "    print(f\"While: {a}\")\n",
    "else: # Gets called when the while loop becomes False\n",
    "    print(f\"Else: {a}\")\n",
    "\n",
    "for i in range(4):\n",
    "    if i == 4:\n",
    "        break # Will never reach, 'else' WILL trigger.\n",
    "    print(f\"{i}\", end=\" \")\n",
    "else:\n",
    "    print(\"Else\")\n",
    "\n",
    "for i in range(5):\n",
    "    if i == 4:\n",
    "        break # Will get broken, 'else' will not trigger.\n",
    "    print(f\"{i}\", end=\" \")\n",
    "else:\n",
    "    print(\"Else\")\n"
   ]
  }
 ],
 "metadata": {
  "kernelspec": {
   "display_name": "sc1003",
   "language": "python",
   "name": "python3"
  },
  "language_info": {
   "codemirror_mode": {
    "name": "ipython",
    "version": 3
   },
   "file_extension": ".py",
   "mimetype": "text/x-python",
   "name": "python",
   "nbconvert_exporter": "python",
   "pygments_lexer": "ipython3",
   "version": "3.10.7"
  }
 },
 "nbformat": 4,
 "nbformat_minor": 2
}
