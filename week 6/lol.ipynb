{
 "cells": [
  {
   "cell_type": "code",
   "execution_count": 13,
   "metadata": {},
   "outputs": [
    {
     "name": "stdout",
     "output_type": "stream",
     "text": [
      "loW\n",
      "['a', 'b', 'c', 'd', 'e', 'f']\n",
      "['b', 'c']\n",
      "['f', 'e', 'd', 'c', 'b', 'a']\n",
      "[1, 3, 5, 7, 9]\n",
      "[1]\n",
      "[9, 7, 5, 3, 1]\n",
      "[9, 5, 1]\n",
      "[9, 3]\n",
      "[9]\n"
     ]
    }
   ],
   "source": [
    "myStr = \"Hello World\"\n",
    "# elW\n",
    "print(myStr[2:-4:2])\n",
    "\n",
    "\n",
    "# Joining 2 lists\n",
    "list1 = list(\"abc\")\n",
    "list2 = list(\"def\")\n",
    "joined = list1 + list2\n",
    "print(joined)\n",
    "\n",
    "list1.remove(\"a\")\n",
    "print(list1)\n",
    "joined.reverse()\n",
    "print(joined)\n",
    "\n",
    "list_of_odds = [n for n in range(1, 10, 2)]\n",
    "print(list_of_odds)\n",
    "print(list_of_odds[::100000])\n",
    "print(list_of_odds[::-1])\n",
    "print(list_of_odds[::-2])\n",
    "print(list_of_odds[::-3])\n",
    "print(list_of_odds[::-1000])\n"
   ]
  },
  {
   "cell_type": "code",
   "execution_count": 24,
   "metadata": {},
   "outputs": [
    {
     "name": "stdout",
     "output_type": "stream",
     "text": [
      "(['a', 'b'], 2)\n",
      "(['a', 'b'], 2) a\n",
      "Yes?\n",
      "key1 value1\n",
      "key2 value2\n",
      "key4 value4\n",
      "key3 value3\n",
      "key5 value5\n"
     ]
    }
   ],
   "source": [
    "tuple1 = (3, 2, 6, ['a', 'b'])\n",
    "tuple2 = tuple1[::-2]\n",
    "print(tuple2)\n",
    "print(tuple2,tuple2[0][0])\n",
    "\n",
    "if [1, { \"key\": \"value\" } ] in [[1, { \"key\": \"value\" }], 2]:\n",
    "    print(\"Yes?\")\n",
    "\n",
    "dict1 = {\n",
    "    \"key1\": \"value1\",\n",
    "    \"key2\": \"value2\",\n",
    "    \"key4\": \"value4\",\n",
    "    \"key3\": \"value3\",\n",
    "    \"key5\": \"value5\",\n",
    "}\n",
    "for key, value in dict1.items():\n",
    "    print(key, value)"
   ]
  },
  {
   "cell_type": "code",
   "execution_count": 11,
   "metadata": {},
   "outputs": [
    {
     "name": "stdout",
     "output_type": "stream",
     "text": [
      "[0, 1, 2, 3, 4, 5, 6, 7, 8, 9]\n",
      "[9, 8, 7]\n",
      "[1, 2, 3]\n",
      "[1, 2, 3, 4, 5]\n",
      "[]\n"
     ]
    }
   ],
   "source": [
    "list1 = [x for x in range(0, 10)]\n",
    "\n",
    "print(list1)\n",
    "print(list1[:-4:-1])\n",
    "print(list1[1:4:1])\n",
    "print(list1[1:-4:1])\n",
    "print(list1[-3:0:-1])"
   ]
  }
 ],
 "metadata": {
  "kernelspec": {
   "display_name": "sc1003",
   "language": "python",
   "name": "python3"
  },
  "language_info": {
   "codemirror_mode": {
    "name": "ipython",
    "version": 3
   },
   "file_extension": ".py",
   "mimetype": "text/x-python",
   "name": "python",
   "nbconvert_exporter": "python",
   "pygments_lexer": "ipython3",
   "version": "3.10.7"
  }
 },
 "nbformat": 4,
 "nbformat_minor": 2
}
