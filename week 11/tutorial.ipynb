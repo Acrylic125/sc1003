{
 "cells": [
  {
   "cell_type": "markdown",
   "metadata": {},
   "source": [
    "# Q1\n",
    "## Problem\n",
    "Reimplement a version of the built-in len function in Python for computing the length\n",
    "of a list. Write three versions:\n",
    "1. A version that is recursive but does not use an accumulator.\n",
    "2. A version that uses an accumulator and is tail recursive.\n",
    "3. A version using iteration (i.e., no recursion). \n",
    "\n",
    "## Solution"
   ]
  },
  {
   "cell_type": "code",
   "execution_count": 6,
   "metadata": {},
   "outputs": [
    {
     "name": "stdout",
     "output_type": "stream",
     "text": [
      "5\n",
      "5\n",
      "5\n"
     ]
    }
   ],
   "source": [
    "def len1(arr):\n",
    "    if arr == []:\n",
    "        return 0\n",
    "    return 1 + len1(arr[1:])\n",
    "\n",
    "def len2(arr, acc=0):\n",
    "    if arr[acc:] == []:\n",
    "        return acc\n",
    "    return len2(arr, acc + 1)\n",
    "\n",
    "def len3(arr):\n",
    "    l = 0\n",
    "    for i in arr:\n",
    "        l += 1\n",
    "    return l\n",
    "\n",
    "test = [1, 2, 3, 4, 5]\n",
    "print(len1(test))\n",
    "print(len2(test))\n",
    "print(len3(test))\n"
   ]
  },
  {
   "cell_type": "markdown",
   "metadata": {},
   "source": [
    "# Q2\n",
    "## Problem\n",
    "Write a function that computes the number of vowels appearing in a given string\n",
    "(recall that a vowel is one of the letters “a”, “e”, “i”, “o”, or “u”). Like for Problem 1,\n",
    "write three versions: \n",
    "\n",
    "## Solution"
   ]
  },
  {
   "cell_type": "code",
   "execution_count": 15,
   "metadata": {},
   "outputs": [
    {
     "name": "stdout",
     "output_type": "stream",
     "text": [
      "3\n",
      "3\n",
      "3\n"
     ]
    }
   ],
   "source": [
    "vowels = ['a', 'e', 'i', 'o', 'u']\n",
    "\n",
    "def vowels1(str):\n",
    "    if len(str) == 0:\n",
    "        return 0\n",
    "    charAtStart = str[0]\n",
    "    if charAtStart.lower() in vowels:\n",
    "        return 1 + vowels1(str[1:])\n",
    "    else:\n",
    "        return vowels1(str[1:])\n",
    "\n",
    "def vowels2(str, acc=0):\n",
    "    if len(str) == 0:\n",
    "        return acc\n",
    "    charAtStart = str[0]\n",
    "    new_acc = acc + 1 if charAtStart.lower() in vowels else acc\n",
    "    return vowels2(str[1:], new_acc)\n",
    "\n",
    "def vowels3(str):\n",
    "    numOfVowels = 0\n",
    "    for ch in str:\n",
    "        if ch.lower() in vowels:\n",
    "            numOfVowels += 1 \n",
    "    return numOfVowels\n",
    "\n",
    "test = \"hello WOrld\"\n",
    "print(vowels1(test))\n",
    "print(vowels2(test))\n",
    "print(vowels3(test))\n",
    "\n"
   ]
  },
  {
   "cell_type": "markdown",
   "metadata": {},
   "source": [
    "# Q3\n",
    "## Problem\n",
    "A binary string is a string using only the two characters 1 and 0. Write a recursive\n",
    "Python function that takes in an integer n ≥ 1, and returns the list of all binary strings\n",
    "of length n (in any order) without consecutive 0s (in other words, 00 does not occur\n",
    "as a substring)\n",
    "\n",
    "## Solution"
   ]
  },
  {
   "cell_type": "code",
   "execution_count": 18,
   "metadata": {},
   "outputs": [
    {
     "name": "stdout",
     "output_type": "stream",
     "text": [
      "['0', '1']\n",
      "['01', '10', '11']\n",
      "['010', '011', '101', '110', '111']\n",
      "['01010', '01011', '01101', '01110', '01111', '10101', '10110', '10111', '11010', '11011', '11101', '11110', '11111']\n",
      "['0101010101', '0101010110', '0101010111', '0101011010', '0101011011', '0101011101', '0101011110', '0101011111', '0101101010', '0101101011', '0101101101', '0101101110', '0101101111', '0101110101', '0101110110', '0101110111', '0101111010', '0101111011', '0101111101', '0101111110', '0101111111', '0110101010', '0110101011', '0110101101', '0110101110', '0110101111', '0110110101', '0110110110', '0110110111', '0110111010', '0110111011', '0110111101', '0110111110', '0110111111', '0111010101', '0111010110', '0111010111', '0111011010', '0111011011', '0111011101', '0111011110', '0111011111', '0111101010', '0111101011', '0111101101', '0111101110', '0111101111', '0111110101', '0111110110', '0111110111', '0111111010', '0111111011', '0111111101', '0111111110', '0111111111', '1010101010', '1010101011', '1010101101', '1010101110', '1010101111', '1010110101', '1010110110', '1010110111', '1010111010', '1010111011', '1010111101', '1010111110', '1010111111', '1011010101', '1011010110', '1011010111', '1011011010', '1011011011', '1011011101', '1011011110', '1011011111', '1011101010', '1011101011', '1011101101', '1011101110', '1011101111', '1011110101', '1011110110', '1011110111', '1011111010', '1011111011', '1011111101', '1011111110', '1011111111', '1101010101', '1101010110', '1101010111', '1101011010', '1101011011', '1101011101', '1101011110', '1101011111', '1101101010', '1101101011', '1101101101', '1101101110', '1101101111', '1101110101', '1101110110', '1101110111', '1101111010', '1101111011', '1101111101', '1101111110', '1101111111', '1110101010', '1110101011', '1110101101', '1110101110', '1110101111', '1110110101', '1110110110', '1110110111', '1110111010', '1110111011', '1110111101', '1110111110', '1110111111', '1111010101', '1111010110', '1111010111', '1111011010', '1111011011', '1111011101', '1111011110', '1111011111', '1111101010', '1111101011', '1111101101', '1111101110', '1111101111', '1111110101', '1111110110', '1111110111', '1111111010', '1111111011', '1111111101', '1111111110', '1111111111']\n"
     ]
    }
   ],
   "source": [
    "def gen_binary_str(n, last=\"\"):\n",
    "    if len(last) == n:\n",
    "        return [last]\n",
    "    last_char = None \n",
    "    if len(last) > 0:\n",
    "        last_char = last[-1]\n",
    "    if last_char is None or last_char == '1':\n",
    "        return gen_binary_str(n, last + \"0\") + gen_binary_str(n, last + \"1\")\n",
    "    else:\n",
    "        return gen_binary_str(n, last + \"1\")\n",
    "\n",
    "print(gen_binary_str(1))\n",
    "print(gen_binary_str(2))\n",
    "print(gen_binary_str(3))\n",
    "print(gen_binary_str(5))\n",
    "print(gen_binary_str(10))"
   ]
  },
  {
   "cell_type": "markdown",
   "metadata": {},
   "source": [
    "# Q4\n",
    "## Problem\n",
    "The Hamming weight of a binary string is the number of 1s occurring in it. Write a\n",
    "recursive Python function that takes in integers n ≥ 1, c ≥ 0 and returns the list of all\n",
    "binary strings (in any order) of length n and Hamming weight at most c. \n",
    "\n",
    "## Solutoon"
   ]
  },
  {
   "cell_type": "code",
   "execution_count": 22,
   "metadata": {},
   "outputs": [
    {
     "name": "stdout",
     "output_type": "stream",
     "text": [
      "['1']\n",
      "['10', '01']\n",
      "['100', '010', '001']\n",
      "['110', '101', '011']\n",
      "['11000', '10100', '10010', '10001', '01100', '01010', '01001', '00110', '00101', '00011']\n"
     ]
    }
   ],
   "source": [
    "def gen_hamming_strs(n, c, last=\"\", num_of_hw=0):\n",
    "    if len(last) == n:\n",
    "        if num_of_hw != c:\n",
    "            return []\n",
    "        return [last]\n",
    "    if num_of_hw == c:\n",
    "        # Pad with 0s since target c is achieved.\n",
    "        return [last + (\"0\" * (n - len(last)))]\n",
    "    return gen_hamming_strs(n, c, last+\"1\", num_of_hw + 1) + gen_hamming_strs(n, c, last+\"0\", num_of_hw + 0)\n",
    "\n",
    "print(gen_hamming_strs(1, 1))\n",
    "print(gen_hamming_strs(2, 1))\n",
    "print(gen_hamming_strs(3, 1))\n",
    "print(gen_hamming_strs(3, 2))\n",
    "print(gen_hamming_strs(5, 2))"
   ]
  },
  {
   "cell_type": "markdown",
   "metadata": {},
   "source": [
    "# Q5\n",
    "## Problem\n",
    "Suppose that each of the following expressions represent the worst-case number of\n",
    "operations required to perform some algorithm on an input list of length n. Give the\n",
    "big O notation for the asymptotic time complexity of each algorithm: \n",
    "\n",
    "- n + 12(log n)\n",
    "- 23 \n",
    "- n log 𝑛\n",
    "- log5(n) + log10(n)\n",
    "- sqrt(n^64) + n^32 + 994\n",
    "\n",
    "## Solution\n",
    "```\n",
    "- n + 12(log n) = O(n)\n",
    "- 23 = O(k)\n",
    "- n log 𝑛 = O(n logn)\n",
    "- log5(n) + log10(n) = O(log5(n))\n",
    "- sqrt(n^64) + n^32 + 994 = O(n^32)"
   ]
  }
 ],
 "metadata": {
  "kernelspec": {
   "display_name": "sc1003",
   "language": "python",
   "name": "python3"
  },
  "language_info": {
   "codemirror_mode": {
    "name": "ipython",
    "version": 3
   },
   "file_extension": ".py",
   "mimetype": "text/x-python",
   "name": "python",
   "nbconvert_exporter": "python",
   "pygments_lexer": "ipython3",
   "version": "3.10.7"
  }
 },
 "nbformat": 4,
 "nbformat_minor": 2
}
